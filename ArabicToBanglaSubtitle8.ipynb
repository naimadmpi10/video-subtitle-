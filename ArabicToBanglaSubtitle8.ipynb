{
  "cells": [
    {
      "cell_type": "markdown",
      "metadata": {
        "id": "view-in-github",
        "colab_type": "text"
      },
      "source": [
        "<a href=\"https://colab.research.google.com/github/naimadmpi10/video-subtitle-/blob/main/ArabicToBanglaSubtitle8.ipynb\" target=\"_parent\"><img src=\"https://colab.research.google.com/assets/colab-badge.svg\" alt=\"Open In Colab\"/></a>"
      ]
    },
    {
      "cell_type": "code",
      "execution_count": null,
      "metadata": {
        "id": "zFPmWMUwqBew"
      },
      "outputs": [],
      "source": [
        "\n",
        "from google.colab import drive\n",
        "drive.mount('/content/drive')"
      ]
    },
    {
      "cell_type": "code",
      "execution_count": null,
      "metadata": {
        "id": "cCcZYJa0qZQH"
      },
      "outputs": [],
      "source": [
        "#Step 2: প্রয়োজনীয় লাইব্রেরি ইনস্টল করুন\n",
        "!pip install -q git+https://github.com/openai/whisper.git\n",
        "!pip install -q deep-translator"
      ]
    },
    {
      "cell_type": "code",
      "execution_count": null,
      "metadata": {
        "id": "cXP04XVGqkBp"
      },
      "outputs": [],
      "source": [
        "\n",
        "# Step 3: ভিডিও ফাইলের পথ দিন (আপনার ভিডিও Drive-এ আপলোড করা থাকতে হবে)\n",
        "video_path = \"/content/drive/MyDrive/Videos/as.mp4\"  # এখানে ফাইলের নাম ও path দিন\n",
        "!apt-get update && apt-get install -y ffmpeg"
      ]
    },
    {
      "cell_type": "code",
      "execution_count": null,
      "metadata": {
        "id": "LQaVfFNXrFJl"
      },
      "outputs": [],
      "source": [
        "\n",
        "# Step 4: ভিডিও থেকে ট্রান্সক্রিপশন করুন\n",
        "import whisper\n",
        "\n",
        "model = whisper.load_model(\"base\")\n",
        "result = model.transcribe(video_path)\n",
        "segments = result['segments']"
      ]
    },
    {
      "cell_type": "code",
      "execution_count": null,
      "metadata": {
        "id": "IOrE7sI3tBmc"
      },
      "outputs": [],
      "source": [
        "\n",
        "from deep_translator import GoogleTranslator\n",
        "\n",
        "translated_segments = []\n",
        "for seg in result['segments']:\n",
        "    bn_text = GoogleTranslator(source='ar', target='bn').translate(seg['text'])\n",
        "    translated_segments.append((seg['start'], seg['end'], bn_text))"
      ]
    },
    {
      "cell_type": "code",
      "execution_count": null,
      "metadata": {
        "id": "DNVg3Lx9tVU1"
      },
      "outputs": [],
      "source": [
        "!apt install fonts-noto"
      ]
    },
    {
      "cell_type": "code",
      "execution_count": null,
      "metadata": {
        "id": "E050Zkoctxf1"
      },
      "outputs": [],
      "source": [
        "# Step 5: .ASS সাবটাইটেল ফাইল তৈরি করা\n",
        "def format_ass_time(seconds):\n",
        "    hours = int(seconds // 3600)\n",
        "    minutes = int((seconds % 3600) // 60)\n",
        "    secs = int(seconds % 60)\n",
        "    millis = int((seconds % 1) * 100)\n",
        "    return f\"{hours}:{minutes:02}:{secs:02}.{millis:02}\"\n",
        "\n",
        "ass_header = \"\"\"\n",
        "[Script Info]\n",
        "Title: Bengali Subtitles\n",
        "ScriptType: v4.00+\n",
        "PlayResY: 720\n",
        "PlayResX: 1280\n",
        "Timer: 100.0000\n",
        "\n",
        "[V4+ Styles]\n",
        "Format: Name, Fontname, Fontsize, PrimaryColour, BackColour, OutlineColour, BorderStyle, Outline, Shadow, Alignment, MarginL, MarginR, MarginV, Encoding\n",
        "Style: Default,Noto Sans Bengali,36,&H00FFFFFF,&H00000000,&H00000000,1,2,0,2,10,10,30,1\n",
        "\n",
        "[Events]\n",
        "Format: Layer, Start, End, Style, Name, MarginL, MarginR, MarginV, Effect, Text\n",
        "\"\"\"\n",
        "\n",
        "ass_path = \"/content/drive/MyDrive/subtitles/Oas.ass\"\n",
        "with open(ass_path, \"w\", encoding=\"utf-8\") as f:\n",
        "    f.write(ass_header)\n",
        "    for start, end, text in translated_segments:\n",
        "        f.write(f\"Dialogue: 0,{format_ass_time(start)},{format_ass_time(end)},Default,,0,0,0,,{text}\\n\")"
      ]
    },
    {
      "cell_type": "code",
      "execution_count": null,
      "metadata": {
        "id": "Z4qMMfzNv6gd"
      },
      "outputs": [],
      "source": [
        "# Step 6: ভিডিওতে বাংলা সাবটাইটেল বার্ন করা\n",
        "!ffmpeg -i \"/content/drive/MyDrive/Videos/as.mp4\" -vf \"ass=/content/drive/MyDrive/subtitles/Oas.ass\" -c:a copy \"/content/drive/MyDrive/Videos/output.mp4\""
      ]
    }
  ],
  "metadata": {
    "colab": {
      "provenance": [],
      "mount_file_id": "1cvTp0nhSn_wxb1ck3nhYp9pIO7LG_RwG",
      "authorship_tag": "ABX9TyOGSers9wheQkqqKJoHRLEf",
      "include_colab_link": true
    },
    "kernelspec": {
      "display_name": "Python 3",
      "name": "python3"
    },
    "language_info": {
      "name": "python"
    }
  },
  "nbformat": 4,
  "nbformat_minor": 0
}
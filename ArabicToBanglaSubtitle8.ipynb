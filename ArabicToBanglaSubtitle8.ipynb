{
  "cells": [
    {
      "cell_type": "markdown",
      "metadata": {
        "id": "view-in-github",
        "colab_type": "text"
      },
      "source": [
        "<a href=\"https://colab.research.google.com/github/naimadmpi10/video-subtitle-/blob/main/ArabicToBanglaSubtitle8.ipynb\" target=\"_parent\"><img src=\"https://colab.research.google.com/assets/colab-badge.svg\" alt=\"Open In Colab\"/></a>"
      ]
    },
    {
      "cell_type": "code",
      "execution_count": null,
      "metadata": {
        "id": "zFPmWMUwqBew"
      },
      "outputs": [],
      "source": [
        "\n",
        "from google.colab import drive\n",
        "drive.mount('/content/drive')"
      ]
    },
    {
      "cell_type": "code",
      "execution_count": null,
      "metadata": {
        "id": "cCcZYJa0qZQH"
      },
      "outputs": [],
      "source": [
        "#Step 2: প্রয়োজনীয় লাইব্রেরি ইনস্টল করুন\n",
        "!pip install -q git+https://github.com/openai/whisper.git\n",
        "!pip install -q deep-translator"
      ]
    },
    {
      "cell_type": "code",
      "execution_count": null,
      "metadata": {
        "id": "cXP04XVGqkBp"
      },
      "outputs": [],
      "source": [
        "\n",
        "# Step 3: ভিডিও ফাইলের পথ দিন (আপনার ভিডিও Drive-এ আপলোড করা থাকতে হবে)\n",
        "video_path = \"/content/drive/MyDrive/Videos/as.mp4\"  # এখানে ফাইলের নাম ও path দিন\n",
        "!apt-get update && apt-get install -y ffmpeg"
      ]
    },
    {
      "cell_type": "code",
      "execution_count": null,
      "metadata": {
        "id": "LQaVfFNXrFJl"
      },
      "outputs": [],
      "source": [
        "\n",
        "# Step 4: ভিডিও থেকে ট্রান্সক্রিপশন করুন\n",
        "import whisper\n",
        "\n",
        "model = whisper.load_model(\"base\")\n",
        "result = model.transcribe(video_path)\n",
        "segments = result['segments']"
      ]
    },
    {
      "cell_type": "code",
      "execution_count": 11,
      "metadata": {
        "id": "IOrE7sI3tBmc"
      },
      "outputs": [],
      "source": [
        "from deep_translator import GoogleTranslator\n",
        "translated_segments = []\n",
        "for seg in result['segments']:\n",
        "    bn_text = GoogleTranslator(source='ar', target='bn').translate(seg['text'])\n",
        "    translated_segments.append((seg['start'], seg['end'], bn_text))\n",
        "    bn_text = GoogleTranslator(source='ar', target='bn').translate(seg['text'])\n",
        "    translated_segments.append((seg['start'], seg['end'], bn_text))"
      ]
    },
    {
      "cell_type": "code",
      "execution_count": null,
      "metadata": {
        "id": "DNVg3Lx9tVU1"
      },
      "outputs": [],
      "source": [
        "!apt install fonts-noto"
      ]
    },
    {
      "cell_type": "code",
      "source": [
        "def format_ass_time(seconds):\n",
        "    hours = int(seconds // 3600)\n",
        "    minutes = int((seconds % 3600) // 60)\n",
        "    secs = int(seconds % 60)\n",
        "    millis = int((seconds % 1) * 100)\n",
        "    return f\"{hours}:{minutes:02}:{secs:02}.{millis:02}\"\n",
        "\n",
        "# ইউজার ইনপুট\n",
        "full_text = input(\"তোমার বাংলা ডায়লগগুলো লিখো (এক লাইনে বা একাধিক লাইনে):\\n\").strip()\n",
        "video_duration_input = input(\"ভিডিওর মোট দৈর্ঘ্য কত সেকেন্ড? (শুধু সংখ্যা):\\n\")\n",
        "\n",
        "if not full_text:\n",
        "    raise ValueError(\"ডায়লগ খালি দেওয়া হয়েছে!\")\n",
        "\n",
        "try:\n",
        "    video_duration = float(video_duration_input)\n",
        "except:\n",
        "    raise ValueError(\"ভিডিওর সময় সংখ্যায় দিন।\")\n",
        "\n",
        "if video_duration <= 0:\n",
        "    raise ValueError(\"ভিডিওর দৈর্ঘ্য ০ বা ঋণাত্মক হতে পারে না!\")\n",
        "\n",
        "# ইনপুট ক্লিন করা\n",
        "merged_text = \" \".join(full_text.splitlines()).strip()\n",
        "\n",
        "# একাধিক স্প্লিটার ব্যবহার করে ভাগ করা\n",
        "import re\n",
        "raw_segments = re.split(r\"।|,|এবং\", merged_text)\n",
        "\n",
        "# ডায়লগ ফাইনালভাবে সাজানো\n",
        "segments = [seg.strip() for seg in raw_segments if seg.strip()]\n",
        "segment_count = len(segments)\n",
        "\n",
        "if segment_count == 0:\n",
        "    raise ValueError(\"একটি বাক্যও পাওয়া যায়নি।\")\n",
        "\n",
        "segment_duration = video_duration / segment_count\n",
        "\n",
        "translated_segments = []\n",
        "for i, sentence in enumerate(segments):\n",
        "    start_time = i * segment_duration\n",
        "    end_time = (i + 1) * segment_duration\n",
        "    if not sentence.endswith(\"।\"):\n",
        "        sentence += \"।\"\n",
        "    translated_segments.append((start_time, end_time, sentence))\n",
        "\n",
        "# .ASS ফাইল তৈরি\n",
        "ass_header = \"\"\"\n",
        "[Script Info]\n",
        "Title: Bengali Subtitles\n",
        "ScriptType: v4.00+\n",
        "PlayResY: 720\n",
        "PlayResX: 1280\n",
        "Timer: 100.0000\n",
        "\n",
        "[V4+ Styles]\n",
        "Format: Name, Fontname, Fontsize, PrimaryColour, BackColour, OutlineColour, BorderStyle, Outline, Shadow, Alignment, MarginL, MarginR, MarginV, Encoding\n",
        "Style: Default,Noto Sans Bengali,36,&H00FFFFFF,&H00000000,&H00000000,1,2,0,2,10,10,30,1\n",
        "\n",
        "[Events]\n",
        "Format: Layer, Start, End, Style, Name, MarginL, MarginR, MarginV, Effect, Text\n",
        "\"\"\"\n",
        "\n",
        "ass_path = \"/content/drive/MyDrive/subtitles/generated_clean_split.ass\"\n",
        "\n",
        "with open(ass_path, \"w\", encoding=\"utf-8\") as f:\n",
        "    f.write(ass_header)\n",
        "    for start, end, text in translated_segments:\n",
        "        f.write(f\"Dialogue: 0,{format_ass_time(start)},{format_ass_time(end)},Default,,0,0,0,,{text}\\n\")\n",
        "\n",
        "print(\"✅ সাবটাইটেল ফাইল তৈরি হয়েছে:\", ass_path)"
      ],
      "metadata": {
        "id": "3du0F4Ko5QWk",
        "outputId": "7a86b364-368a-48fc-8b3b-5e9aaf719859",
        "colab": {
          "base_uri": "https://localhost:8080/"
        }
      },
      "execution_count": 20,
      "outputs": [
        {
          "output_type": "stream",
          "name": "stdout",
          "text": [
            "তোমার বাংলা ডায়লগগুলো লিখো (এক লাইনে বা একাধিক লাইনে):\n",
            "হে ঈশ্বর, ফিলিস্তিনে তাদের সাহায্য করুন এবং তাদের সকল উদ্বেগ থেকে মুক্তি দিন, সকল দুঃখ থেকে মুক্তির পথ দিন এবং সকল দুঃখ থেকে সুস্থতা দান করুন।\n",
            "ভিডিওর মোট দৈর্ঘ্য কত সেকেন্ড? (শুধু সংখ্যা):\n",
            "9\n",
            "✅ সাবটাইটেল ফাইল তৈরি হয়েছে: /content/drive/MyDrive/subtitles/generated_clean_split.ass\n"
          ]
        }
      ]
    },
    {
      "cell_type": "code",
      "execution_count": 21,
      "metadata": {
        "id": "Z4qMMfzNv6gd",
        "outputId": "cb562a6a-53d6-4360-aa33-4479dbd99a80",
        "colab": {
          "base_uri": "https://localhost:8080/"
        }
      },
      "outputs": [
        {
          "output_type": "stream",
          "name": "stdout",
          "text": [
            "ffmpeg version 4.4.2-0ubuntu0.22.04.1 Copyright (c) 2000-2021 the FFmpeg developers\n",
            "  built with gcc 11 (Ubuntu 11.2.0-19ubuntu1)\n",
            "  configuration: --prefix=/usr --extra-version=0ubuntu0.22.04.1 --toolchain=hardened --libdir=/usr/lib/x86_64-linux-gnu --incdir=/usr/include/x86_64-linux-gnu --arch=amd64 --enable-gpl --disable-stripping --enable-gnutls --enable-ladspa --enable-libaom --enable-libass --enable-libbluray --enable-libbs2b --enable-libcaca --enable-libcdio --enable-libcodec2 --enable-libdav1d --enable-libflite --enable-libfontconfig --enable-libfreetype --enable-libfribidi --enable-libgme --enable-libgsm --enable-libjack --enable-libmp3lame --enable-libmysofa --enable-libopenjpeg --enable-libopenmpt --enable-libopus --enable-libpulse --enable-librabbitmq --enable-librubberband --enable-libshine --enable-libsnappy --enable-libsoxr --enable-libspeex --enable-libsrt --enable-libssh --enable-libtheora --enable-libtwolame --enable-libvidstab --enable-libvorbis --enable-libvpx --enable-libwebp --enable-libx265 --enable-libxml2 --enable-libxvid --enable-libzimg --enable-libzmq --enable-libzvbi --enable-lv2 --enable-omx --enable-openal --enable-opencl --enable-opengl --enable-sdl2 --enable-pocketsphinx --enable-librsvg --enable-libmfx --enable-libdc1394 --enable-libdrm --enable-libiec61883 --enable-chromaprint --enable-frei0r --enable-libx264 --enable-shared\n",
            "  libavutil      56. 70.100 / 56. 70.100\n",
            "  libavcodec     58.134.100 / 58.134.100\n",
            "  libavformat    58. 76.100 / 58. 76.100\n",
            "  libavdevice    58. 13.100 / 58. 13.100\n",
            "  libavfilter     7.110.100 /  7.110.100\n",
            "  libswscale      5.  9.100 /  5.  9.100\n",
            "  libswresample   3.  9.100 /  3.  9.100\n",
            "  libpostproc    55.  9.100 / 55.  9.100\n",
            "\u001b[0;35m[mov,mp4,m4a,3gp,3g2,mj2 @ 0x58d12bfaa040] \u001b[0m\u001b[0;33mUnknown cover type: 0x1.\n",
            "\u001b[0mInput #0, mov,mp4,m4a,3gp,3g2,mj2, from '/content/drive/MyDrive/Videos/yd.mp4':\n",
            "  Metadata:\n",
            "    major_brand     : mp42\n",
            "    minor_version   : 0\n",
            "    compatible_brands: isommp42\n",
            "  Duration: 00:00:09.39, start: 0.000000, bitrate: 575 kb/s\n",
            "  Stream #0:0(und): Video: h264 (Constrained Baseline) (avc1 / 0x31637661), yuv420p(tv, bt709), 360x640 [SAR 1:1 DAR 9:16], 402 kb/s, 30 fps, 30 tbr, 15360 tbn, 60 tbc (default)\n",
            "    Metadata:\n",
            "      handler_name    : ISO Media file produced by Google Inc.\n",
            "      vendor_id       : [0][0][0][0]\n",
            "  Stream #0:1(eng): Audio: aac (LC) (mp4a / 0x6134706D), 48000 Hz, mono, fltp, 144 kb/s (default)\n",
            "    Metadata:\n",
            "      handler_name    : ISO Media file produced by Google Inc.\n",
            "      vendor_id       : [0][0][0][0]\n",
            "File '/content/drive/MyDrive/Videos/yd_output.mp4' already exists. Overwrite? [y/N] Y\n",
            "Stream mapping:\n",
            "  Stream #0:0 -> #0:0 (h264 (native) -> h264 (libx264))\n",
            "  Stream #0:1 -> #0:1 (copy)\n",
            "Press [q] to stop, [?] for help\n",
            "\u001b[1;32m[Parsed_ass_0 @ 0x58d12bfd6c00] \u001b[0mlibass API version: 0x1502000\n",
            "\u001b[1;32m[Parsed_ass_0 @ 0x58d12bfd6c00] \u001b[0mlibass source: tarball: 0.15.2\n",
            "\u001b[1;32m[Parsed_ass_0 @ 0x58d12bfd6c00] \u001b[0mShaper: FriBidi 1.0.8 (SIMPLE) HarfBuzz-ng 2.7.4 (COMPLEX)\n",
            "\u001b[1;32m[Parsed_ass_0 @ 0x58d12bfd6c00] \u001b[0mUsing font provider fontconfig\n",
            "\u001b[1;32m[Parsed_ass_0 @ 0x58d12bfd6c00] \u001b[0mTrack has custom format line(s). 'ScaledBorderAndShadow' will default to 'yes'.\n",
            "\u001b[1;32m[Parsed_ass_0 @ 0x58d12bfd6c00] \u001b[0mAdded subtitle file: '/content/drive/MyDrive/subtitles/ydas.ass' (2 styles, 4 events)\n",
            "\u001b[1;32m[Parsed_ass_0 @ 0x58d12bfd6c00] \u001b[0mfontselect: (Noto Sans Bengali, 400, 0) -> /usr/share/fonts/truetype/noto/NotoSansBengali-Regular.ttf, 0, NotoSansBengali-Regular\n",
            "\u001b[1;36m[libx264 @ 0x58d12c0b1800] \u001b[0musing SAR=1/1\n",
            "\u001b[1;36m[libx264 @ 0x58d12c0b1800] \u001b[0musing cpu capabilities: MMX2 SSE2Fast SSSE3 SSE4.2 AVX FMA3 BMI2 AVX2\n",
            "\u001b[1;36m[libx264 @ 0x58d12c0b1800] \u001b[0mprofile High, level 3.0, 4:2:0, 8-bit\n",
            "\u001b[1;36m[libx264 @ 0x58d12c0b1800] \u001b[0m264 - core 163 r3060 5db6aa6 - H.264/MPEG-4 AVC codec - Copyleft 2003-2021 - http://www.videolan.org/x264.html - options: cabac=1 ref=3 deblock=1:0:0 analyse=0x3:0x113 me=hex subme=7 psy=1 psy_rd=1.00:0.00 mixed_ref=1 me_range=16 chroma_me=1 trellis=1 8x8dct=1 cqm=0 deadzone=21,11 fast_pskip=1 chroma_qp_offset=-2 threads=3 lookahead_threads=1 sliced_threads=0 nr=0 decimate=1 interlaced=0 bluray_compat=0 constrained_intra=0 bframes=3 b_pyramid=2 b_adapt=1 b_bias=0 direct=1 weightb=1 open_gop=0 weightp=2 keyint=250 keyint_min=25 scenecut=40 intra_refresh=0 rc_lookahead=40 rc=crf mbtree=1 crf=23.0 qcomp=0.60 qpmin=0 qpmax=69 qpstep=4 ip_ratio=1.40 aq=1:1.00\n",
            "Output #0, mp4, to '/content/drive/MyDrive/Videos/yd_output.mp4':\n",
            "  Metadata:\n",
            "    major_brand     : mp42\n",
            "    minor_version   : 0\n",
            "    compatible_brands: isommp42\n",
            "    encoder         : Lavf58.76.100\n",
            "  Stream #0:0(und): Video: h264 (avc1 / 0x31637661), yuv420p(tv, bt709, progressive), 360x640 [SAR 1:1 DAR 9:16], q=2-31, 30 fps, 15360 tbn (default)\n",
            "    Metadata:\n",
            "      handler_name    : ISO Media file produced by Google Inc.\n",
            "      vendor_id       : [0][0][0][0]\n",
            "      encoder         : Lavc58.134.100 libx264\n",
            "    Side data:\n",
            "      cpb: bitrate max/min/avg: 0/0/0 buffer size: 0 vbv_delay: N/A\n",
            "  Stream #0:1(eng): Audio: aac (LC) (mp4a / 0x6134706D), 48000 Hz, mono, fltp, 144 kb/s (default)\n",
            "    Metadata:\n",
            "      handler_name    : ISO Media file produced by Google Inc.\n",
            "      vendor_id       : [0][0][0][0]\n",
            "frame=  280 fps= 92 q=-1.0 Lsize=     579kB time=00:00:09.36 bitrate= 506.8kbits/s speed=3.09x    \n",
            "video:403kB audio:165kB subtitle:0kB other streams:0kB global headers:0kB muxing overhead: 1.990806%\n",
            "\u001b[1;36m[libx264 @ 0x58d12c0b1800] \u001b[0mframe I:2     Avg QP:19.56  size: 26552\n",
            "\u001b[1;36m[libx264 @ 0x58d12c0b1800] \u001b[0mframe P:104   Avg QP:22.19  size:  2824\n",
            "\u001b[1;36m[libx264 @ 0x58d12c0b1800] \u001b[0mframe B:174   Avg QP:24.33  size:   374\n",
            "\u001b[1;36m[libx264 @ 0x58d12c0b1800] \u001b[0mconsecutive B-frames: 10.4% 16.4% 11.8% 61.4%\n",
            "\u001b[1;36m[libx264 @ 0x58d12c0b1800] \u001b[0mmb I  I16..4: 15.5% 38.2% 46.3%\n",
            "\u001b[1;36m[libx264 @ 0x58d12c0b1800] \u001b[0mmb P  I16..4:  2.1%  1.9%  0.7%  P16..4: 28.6% 11.8%  5.2%  0.0%  0.0%    skip:49.7%\n",
            "\u001b[1;36m[libx264 @ 0x58d12c0b1800] \u001b[0mmb B  I16..4:  0.1%  0.1%  0.0%  B16..8: 25.5%  1.8%  0.2%  direct: 0.3%  skip:72.2%  L0:47.4% L1:50.9% BI: 1.8%\n",
            "\u001b[1;36m[libx264 @ 0x58d12c0b1800] \u001b[0m8x8 transform intra:39.2% inter:55.6%\n",
            "\u001b[1;36m[libx264 @ 0x58d12c0b1800] \u001b[0mcoded y,uvDC,uvAC intra: 38.6% 63.6% 25.4% inter: 4.9% 6.4% 0.7%\n",
            "\u001b[1;36m[libx264 @ 0x58d12c0b1800] \u001b[0mi16 v,h,dc,p: 28% 32% 19% 21%\n",
            "\u001b[1;36m[libx264 @ 0x58d12c0b1800] \u001b[0mi8 v,h,dc,ddl,ddr,vr,hd,vl,hu: 33% 18% 31%  2%  3%  5%  2%  3%  3%\n",
            "\u001b[1;36m[libx264 @ 0x58d12c0b1800] \u001b[0mi4 v,h,dc,ddl,ddr,vr,hd,vl,hu: 30% 24% 13%  4%  6%  8%  5%  6%  5%\n",
            "\u001b[1;36m[libx264 @ 0x58d12c0b1800] \u001b[0mi8c dc,h,v,p: 45% 24% 26%  6%\n",
            "\u001b[1;36m[libx264 @ 0x58d12c0b1800] \u001b[0mWeighted P-Frames: Y:0.0% UV:0.0%\n",
            "\u001b[1;36m[libx264 @ 0x58d12c0b1800] \u001b[0mref P L0: 79.0%  8.5% 10.1%  2.5%\n",
            "\u001b[1;36m[libx264 @ 0x58d12c0b1800] \u001b[0mref B L0: 92.0%  7.2%  0.8%\n",
            "\u001b[1;36m[libx264 @ 0x58d12c0b1800] \u001b[0mref B L1: 97.3%  2.7%\n",
            "\u001b[1;36m[libx264 @ 0x58d12c0b1800] \u001b[0mkb/s:353.04\n"
          ]
        }
      ],
      "source": [
        "# Step 6: ভিডিওতে বাংলা সাবটাইটেল বার্ন করা\n",
        "!ffmpeg -i \"/content/drive/MyDrive/Videos/yd.mp4\" -vf \"ass=/content/drive/MyDrive/subtitles/ydas.ass\" -c:a copy \"/content/drive/MyDrive/Videos/yd_output.mp4\""
      ]
    }
  ],
  "metadata": {
    "colab": {
      "provenance": [],
      "mount_file_id": "1cvTp0nhSn_wxb1ck3nhYp9pIO7LG_RwG",
      "authorship_tag": "ABX9TyPtzbVAm+sQ8/qzln/RDO88",
      "include_colab_link": true
    },
    "kernelspec": {
      "display_name": "Python 3",
      "name": "python3"
    },
    "language_info": {
      "name": "python"
    }
  },
  "nbformat": 4,
  "nbformat_minor": 0
}
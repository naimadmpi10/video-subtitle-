{
  "nbformat": 4,
  "nbformat_minor": 0,
  "metadata": {
    "colab": {
      "provenance": [],
      "authorship_tag": "ABX9TyPrWx8GKbkZZMZYoF+SLQJY",
      "include_colab_link": true
    },
    "kernelspec": {
      "name": "python3",
      "display_name": "Python 3"
    },
    "language_info": {
      "name": "python"
    }
  },
  "cells": [
    {
      "cell_type": "markdown",
      "metadata": {
        "id": "view-in-github",
        "colab_type": "text"
      },
      "source": [
        "<a href=\"https://colab.research.google.com/github/naimadmpi10/video-subtitle-/blob/main/VideoToTxt.ipynb\" target=\"_parent\"><img src=\"https://colab.research.google.com/assets/colab-badge.svg\" alt=\"Open In Colab\"/></a>"
      ]
    },
    {
      "cell_type": "code",
      "source": [
        "!pip install moviepy\n",
        "\n",
        "from moviepy.editor import VideoFileClip\n",
        "from google.colab import files\n",
        "uploaded = files.upload()  # এখানে আপনার JSON কীগুলি আপলোড করবেন\n",
        "# ভিডিও থেকে অডিও এক্সট্র্যাক্ট করা\n",
        "\n",
        "# Get the filename from the uploaded dictionary\n",
        "filename = list(uploaded.keys())[0]\n",
        "\n",
        "# Use the filename when creating the VideoFileClip\n",
        "video = VideoFileClip(filename)\n",
        "audio = video.audio\n",
        "audio.write_audiofile('/content/audio.wav')"
      ],
      "metadata": {
        "id": "KmBgK47Tc5NV"
      },
      "execution_count": null,
      "outputs": []
    },
    {
      "cell_type": "code",
      "source": [
        "import speech_recognition as sr\n",
        "from google.colab import files  # ডাউনলোডের জন্য প্রয়োজন\n",
        "\n",
        "# Recognizer ইন্সট্যান্স তৈরি\n",
        "recognizer = sr.Recognizer()\n",
        "\n",
        "# অডিও ফাইল লোড\n",
        "audio_file_path = '/content/audio.wav'\n",
        "\n",
        "# অডিও ফাইলের সাথে কাজ করা\n",
        "with sr.AudioFile(audio_file_path) as source:\n",
        "    audio = recognizer.record(source)  # অডিও রেকর্ড করা\n",
        "\n",
        "# ট্রান্সক্রিপশন (Google Web Speech API ব্যবহার)\n",
        "try:\n",
        "    subtitles_text = recognizer.recognize_google(audio, language='ar-SA')  # আরবি ভাষার জন্য\n",
        "    with open(\"/content/subtitles.txt\", \"w\", encoding=\"utf-8\") as file:\n",
        "        file.write(subtitles_text)\n",
        "    # ফাইল ডাউনলোড করা\n",
        "    files.download(\"/content/subtitles.txt\")\n",
        "\n",
        "except sr.UnknownValueError:\n",
        "    print(\"Google Speech Recognition could not understand the audio\")\n",
        "except sr.RequestError as e:\n",
        "    print(f\"Could not request results from Google Speech Recognition service; {e}\")"
      ],
      "metadata": {
        "id": "Uah4dbMpfRD8"
      },
      "execution_count": null,
      "outputs": []
    }
  ]
}